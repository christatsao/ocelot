{
 "cells": [
  {
   "cell_type": "code",
   "execution_count": 3,
   "metadata": {},
   "outputs": [],
   "source": [
    "import numpy as np\n",
    "import torch\n",
    "import os\n",
    "from torch.utils.data import Dataset\n",
    "import cv2\n",
    "import pandas as pd"
   ]
  },
  {
   "cell_type": "code",
   "execution_count": 4,
   "metadata": {},
   "outputs": [],
   "source": [
    "MY_DEVICE = torch.device(device='cuda' if torch.cuda.is_available() else 'cpu')\n",
    "PIN_MEMORY = True if MY_DEVICE == 'cuda' else False\n",
    "D_TYPE = torch.float32\n",
    "\n",
    "DATA_DIR = '../../ocelot2023_v0.1.2/'\n",
    "ANN_CELL_DIR = DATA_DIR + \"annotations/train/cell/\"\n",
    "ANN_TISS_DIR = DATA_DIR + \"annotations/train/tissue/\"\n",
    "IMG_CELL_DIR = DATA_DIR + \"images/train/cell\"\n",
    "IMG_TISS_DIR = DATA_DIR + \"images/train/tissue\"\n",
    "META_PATH = DATA_DIR + 'metadata.json'"
   ]
  },
  {
   "cell_type": "code",
   "execution_count": 5,
   "metadata": {},
   "outputs": [],
   "source": [
    "class SegmentationDataset(Dataset):\n",
    "    def __init__(self, cellImagePaths, cellAnnotationPaths, tissImagePaths, tissAnnotationPaths, metadataAbsPath, cellTransforms = None, tissTransforms = None):\n",
    "        self.cellImagePaths = cellImagePaths\n",
    "        self.cellImageFileNames = os.listdir(cellImagePaths)\n",
    "        self.cellAnnotationPaths = cellAnnotationPaths\n",
    "        self.cellAnnFileNames = os.listdir(cellAnnotationPaths)\n",
    "\n",
    "        self.tissImagePaths = tissImagePaths\n",
    "        self.tissImageFileNames = os.listdir(tissImagePaths)\n",
    "        self.tissAnnotationPaths = tissAnnotationPaths\n",
    "        self.tissAnnFileNames = os.listdir(tissAnnotationPaths)\n",
    "\n",
    "        self.metadataAbsPath = metadataAbsPath\n",
    "\n",
    "        self.cellTransforms = cellTransforms\n",
    "        self.tissTransforms = tissTransforms\n",
    "\n",
    "    def __len__(self):\n",
    "        #always make sure all dataset tissue/cell subfolders have proper size correspondence or this will not work\n",
    "        return len(os.listdir(self.cellImagePaths))\n",
    "    \n",
    "    def __getitem__(self, idx):\n",
    "        cellImageAbsPath = os.path.join(self.cellImagePaths, self.cellImageFileNames[idx])\n",
    "        tissImageAbsPath = os.path.join(self.tissImagePaths, self.tissImageFileNames[idx])\n",
    "        cellAnnAbsPath = os.path.join(self.cellAnnotationPaths, self.cellAnnFileNames[idx])\n",
    "        tissAnnAbsPath = os.path.join(self.tissAnnotationPaths, self.tissAnnFileNames[idx])\n",
    "        \n",
    "        cellImage = cv2.imread(cellImageAbsPath)\n",
    "        cellImage = cv2.cvtColor(cellImage, cv2.COLOR_BGR2RGB) #QUESTION: .reshape(3,1024,1024) #reshape???\n",
    "\n",
    "        tissImage = cv2.imread(tissImageAbsPath)\n",
    "        tissImage = cv2.cvtColor(tissImage, cv2.COLOR_BGR2RGB) #QUESTION: .reshape(3,1024,1024) #reshape???\n",
    "\n",
    "        tissMask = cv2.imread(tissAnnAbsPath, 0)\n",
    "        cellAnn = pd.read_csv(cellAnnAbsPath, delimiter=',').to_numpy()\n",
    "\n",
    "        x_coord = ... #TODO: get from metadata.json in form (x_start, x_end) for corresponding sample\n",
    "        y_coord = ... #TODO: get from metadata.json in form (y_start, y_end) for correspsonding sample\n",
    "\n",
    "        #TODO: cell transforms\n",
    "        #TODO: tissue transforms\n",
    "\n",
    "        return (cellImage, cellAnn, tissImage, tissMask, x_coord, y_coord)"
   ]
  },
  {
   "cell_type": "code",
   "execution_count": 6,
   "metadata": {},
   "outputs": [
    {
     "data": {
      "text/plain": [
       "array([[2, 2, 2, ..., 2, 2, 2],\n",
       "       [2, 2, 2, ..., 2, 2, 2],\n",
       "       [2, 2, 2, ..., 2, 2, 2],\n",
       "       ...,\n",
       "       [2, 2, 2, ..., 1, 1, 1],\n",
       "       [2, 2, 2, ..., 1, 1, 1],\n",
       "       [2, 2, 2, ..., 1, 1, 1]], dtype=uint8)"
      ]
     },
     "execution_count": 6,
     "metadata": {},
     "output_type": "execute_result"
    }
   ],
   "source": [
    "mydata = SegmentationDataset(IMG_CELL_DIR, ANN_CELL_DIR, IMG_TISS_DIR, ANN_TISS_DIR, META_PATH)\n",
    "mydata[0][3]"
   ]
  }
 ],
 "metadata": {
  "kernelspec": {
   "display_name": "REU2023",
   "language": "python",
   "name": "python3"
  },
  "language_info": {
   "codemirror_mode": {
    "name": "ipython",
    "version": 3
   },
   "file_extension": ".py",
   "mimetype": "text/x-python",
   "name": "python",
   "nbconvert_exporter": "python",
   "pygments_lexer": "ipython3",
   "version": "3.10.9"
  },
  "orig_nbformat": 4
 },
 "nbformat": 4,
 "nbformat_minor": 2
}
