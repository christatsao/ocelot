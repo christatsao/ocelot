{
 "cells": [
  {
   "cell_type": "markdown",
   "metadata": {},
   "source": [
    "# Test Notebook"
   ]
  },
  {
   "cell_type": "code",
   "execution_count": 1,
   "metadata": {},
   "outputs": [],
   "source": [
    "from comet_ml import Experiment\n",
    "\n",
    "import sys, os\n",
    "\n",
    "#Our project root directory\n",
    "PROJECT_ROOT = os.path.abspath(os.path.join(os.path.dirname(\"__file__\"), os.pardir))\n",
    "sys.path.append(PROJECT_ROOT)\n",
    "\n",
    "#Local packages loaded from src specifying useful constants, and our custom loader\n",
    "from util.constants import DATA_PATHS\n",
    "from util.dataset import OcelotDatasetLoader, OcelotDatasetLoader2, PixelThreshold\n",
    "from util.unet import Unet\n",
    "from util.evaluate import evaluate\n",
    "import argparse\n",
    "\n",
    "#other modules of interest\n",
    "import torch\n",
    "from torch.utils.data import DataLoader\n",
    "import torchmetrics\n",
    "from torchvision import transforms as transf\n",
    "from PIL import Image\n",
    "import numpy as np\n",
    "import logging\n",
    "from tqdm import tqdm\n",
    "import matplotlib.pyplot as plt\n",
    "from monai.losses import DiceCELoss, DiceLoss, MaskedDiceLoss\n",
    "import copy\n",
    "import albumentations as A\n",
    "from albumentations.pytorch import ToTensorV2\n",
    "import cv2\n",
    "import pandas as pd\n",
    "from sklearn.model_selection import train_test_split"
   ]
  },
  {
   "cell_type": "code",
   "execution_count": 2,
   "metadata": {},
   "outputs": [],
   "source": [
    "my_device = torch.device(device = 'cuda' if torch.cuda.is_available() else 'cpu')\n",
    "pin_memory = True if my_device == 'cuda' else False\n",
    "d_type_f32 = torch.float32\n",
    "batch_size = 1\n",
    "learning_rate= 1e-3\n",
    "weight_decay = 1e-3\n",
    "nepochs = 10\n",
    "val_percent=0.1\n",
    "train_percent = 1 - val_percent\n",
    "image_transforms = transf.Compose([transf.Resize((128,128)), transf.ToTensor()])\n",
    "mask_transforms = transf.Compose([transf.Resize((128,128)), transf.ToTensor(), PixelThreshold(lower_thresh=1, upper_thresh=255)])\n",
    "\n",
    "#First we need to specify some info on our model: we have 3 channels RGB, 1 class: tissue\n",
    "model = Unet(n_channels=3, n_classes=1)"
   ]
  },
  {
   "cell_type": "code",
   "execution_count": null,
   "metadata": {},
   "outputs": [],
   "source": [
    "train_transform =   A.Compose([ A.Resize(128,128),\n",
    "                                A.HorizontalFlip(p=0.5), #TODO: FIX FOR SCORING\n",
    "                                ToTensorV2()])\n",
    "valtest_transform = A.Compose([ A.Resize(128,128),\n",
    "                                ToTensorV2()])           #TODO: FIX FOR SCORING"
   ]
  },
  {
   "cell_type": "code",
   "execution_count": null,
   "metadata": {},
   "outputs": [],
   "source": [
    "datasetroot = \"/uufs/chpc.utah.edu/common/home/u6052852/ocelot/data/ocelot2023_v0.1.2\"\n",
    "scratchDirData = '/scratch/general/nfs1/u6052852/REU/Data0'\n",
    "\n",
    "train = list(pd.read_csv(os.path.join(scratchDirData,'train.csv'), header=None).loc[:,0])\n",
    "val   = list(pd.read_csv(os.path.join(scratchDirData,'val.csv'),   header=None).loc[:,0])\n",
    "test  = list(pd.read_csv(os.path.join(scratchDirData,'test.csv'),  header=None).loc[:,0])"
   ]
  },
  {
   "cell_type": "code",
   "execution_count": 3,
   "metadata": {},
   "outputs": [
    {
     "name": "stdout",
     "output_type": "stream",
     "text": [
      "tensor([[[1., 1., 1.,  ..., 1., 1., 1.],\n",
      "         [1., 1., 1.,  ..., 1., 1., 1.],\n",
      "         [1., 1., 1.,  ..., 1., 1., 1.],\n",
      "         ...,\n",
      "         [0., 0., 0.,  ..., 1., 1., 1.],\n",
      "         [0., 0., 0.,  ..., 1., 1., 1.],\n",
      "         [0., 0., 0.,  ..., 1., 1., 1.]]])\n",
      "tensor([0., 1.])\n",
      "tensor(1.)\n"
     ]
    },
    {
     "data": {
      "image/png": "[encoded data removed]",
      "text/plain": [
       "<PIL.Image.Image image mode=L size=1024x1024>"
      ]
     },
     "execution_count": 3,
     "metadata": {},
     "output_type": "execute_result"
    }
   ],
   "source": [
    "train_split = OcelotDatasetLoader2(train,\n",
    "                                    datasetroot,\n",
    "                                    transforms=train_transform) \n",
    "val_split   = OcelotDatasetLoader2(val,\n",
    "                                    datasetroot,\n",
    "                                    transforms=valtest_transform) \n",
    "testData  = OcelotDatasetLoader2(test,\n",
    "                                    datasetroot,\n",
    "                                    transforms=valtest_transform) \n",
    "\n",
    "#We pass into dataloader provided by torch\n",
    "train_loader = DataLoader(train_split, \n",
    "                            batch_size=args.batchSize, \n",
    "                        num_workers=4)\n",
    "val_loader = DataLoader(val_split, \n",
    "                        batch_size=args.batchSize, \n",
    "                        num_workers=4)\n",
    "test_loader = DataLoader(testData,\n",
    "                            batch_size=args.batchSize,\n",
    "                            pin_memory=4)\n"
   ]
  }
 ],
 "metadata": {
  "kernelspec": {
   "display_name": "REU2023",
   "language": "python",
   "name": "python3"
  },
  "language_info": {
   "codemirror_mode": {
    "name": "ipython",
    "version": 3
   },
   "file_extension": ".py",
   "mimetype": "text/x-python",
   "name": "python",
   "nbconvert_exporter": "python",
   "pygments_lexer": "ipython3",
   "version": "3.11.3"
  },
  "orig_nbformat": 4
 },
 "nbformat": 4,
 "nbformat_minor": 2
}
